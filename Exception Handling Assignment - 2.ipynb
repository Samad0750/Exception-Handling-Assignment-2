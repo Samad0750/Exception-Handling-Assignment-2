{
 "cells": [
  {
   "cell_type": "markdown",
   "id": "f463513f-5355-4adb-ab2f-c8df1500cfe9",
   "metadata": {},
   "source": [
    "QUESTION 6\n",
    "\n",
    "1.ALWAYS USE SPECIFIC EXCEPTION.\n",
    "\n",
    "2.ALWAYS USE APROPER MESSAGE.\n",
    "\n",
    "3.ALWAYS TRY TO LOG YPUR ERROR.\n",
    "\n",
    "4.Always avoid to write a multiple exception handling.\n",
    "\n",
    "5.Document all the error.\n",
    "\n",
    "6.Clean up all the resources.\n"
   ]
  },
  {
   "cell_type": "markdown",
   "id": "9f56ed4b-5e20-43d4-8f59-5dfba8008729",
   "metadata": {},
   "source": [
    "QUESTION 5\n",
    "\n",
    "IMPORT ERROR AND MODULE NOT FOUND ERROR ARE BASICALLY SAME\n",
    "\n",
    "Python's ImportError ( ModuleNotFoundError ) indicates that you tried to import a module that Python doesn't find."
   ]
  },
  {
   "cell_type": "markdown",
   "id": "c0793684-06ed-4596-a3ca-f0913d43a328",
   "metadata": {},
   "source": [
    "QUESTION 4\n",
    "\n",
    "LookupError Exception is the Base class for errors raised when something can't be found. It consist of IndexError and KeyError.\n"
   ]
  },
  {
   "cell_type": "code",
   "execution_count": 1,
   "id": "e9a94ae5-7364-4112-ac4f-4a8c37873550",
   "metadata": {},
   "outputs": [
    {
     "ename": "IndexError",
     "evalue": "list index out of range",
     "output_type": "error",
     "traceback": [
      "\u001b[0;31m---------------------------------------------------------------------------\u001b[0m",
      "\u001b[0;31mIndexError\u001b[0m                                Traceback (most recent call last)",
      "Cell \u001b[0;32mIn[1], line 3\u001b[0m\n\u001b[1;32m      1\u001b[0m \u001b[38;5;66;03m# ex of IndexError:-\u001b[39;00m\n\u001b[1;32m      2\u001b[0m s\u001b[38;5;241m=\u001b[39m[\u001b[38;5;241m233\u001b[39m,\u001b[38;5;241m45\u001b[39m,\u001b[38;5;241m534\u001b[39m,\u001b[38;5;124m\"\u001b[39m\u001b[38;5;124msudh\u001b[39m\u001b[38;5;124m\"\u001b[39m,\u001b[38;5;241m223\u001b[39m,\u001b[38;5;124m\"\u001b[39m\u001b[38;5;124mpwskills\u001b[39m\u001b[38;5;124m\"\u001b[39m]\n\u001b[0;32m----> 3\u001b[0m \u001b[43ms\u001b[49m\u001b[43m[\u001b[49m\u001b[38;5;241;43m8\u001b[39;49m\u001b[43m]\u001b[49m\n",
      "\u001b[0;31mIndexError\u001b[0m: list index out of range"
     ]
    }
   ],
   "source": [
    "# ex of IndexError:-\n",
    "s=[233,45,534,\"sudh\",223,\"pwskills\"]\n",
    "s[8]"
   ]
  },
  {
   "cell_type": "code",
   "execution_count": null,
   "id": "7bc54910-7cb4-4f99-9654-a9ea4a3064d9",
   "metadata": {},
   "outputs": [],
   "source": [
    " # ex of KeyError:-\n",
    "d={\"name\":\"sudh\",\n",
    "   \"profession\":\"teacher\",\n",
    "   \"mobile_no\":4578476849}"
   ]
  },
  {
   "cell_type": "code",
   "execution_count": 2,
   "id": "b105f72e-ae22-476a-ae15-20d6302fc937",
   "metadata": {},
   "outputs": [
    {
     "ename": "NameError",
     "evalue": "name 'd' is not defined",
     "output_type": "error",
     "traceback": [
      "\u001b[0;31m---------------------------------------------------------------------------\u001b[0m",
      "\u001b[0;31mNameError\u001b[0m                                 Traceback (most recent call last)",
      "Cell \u001b[0;32mIn[2], line 1\u001b[0m\n\u001b[0;32m----> 1\u001b[0m \u001b[43md\u001b[49m[\u001b[38;5;124m\"\u001b[39m\u001b[38;5;124mmail_id\u001b[39m\u001b[38;5;124m\"\u001b[39m]\n",
      "\u001b[0;31mNameError\u001b[0m: name 'd' is not defined"
     ]
    }
   ],
   "source": [
    "d[\"mail_id\"]"
   ]
  },
  {
   "cell_type": "markdown",
   "id": "9642ea8e-87b1-4833-bfd5-a851196c4379",
   "metadata": {},
   "source": [
    "QUESTION 3\n",
    "\n",
    "\n",
    "Errors arised in ArithmeticError class are :-\n",
    "\n",
    "1.ZeroDivisonError\n",
    "\n",
    "2. OverflowError\n",
    "\n",
    "3. FloatingPointError\n"
   ]
  },
  {
   "cell_type": "code",
   "execution_count": 9,
   "id": "94d7475d-4790-4cef-b1cd-f29c1a3b3431",
   "metadata": {},
   "outputs": [
    {
     "name": "stdout",
     "output_type": "stream",
     "text": [
      "value out of range\n",
      " (34, 'Numerical result out of range')\n"
     ]
    }
   ],
   "source": [
    "j = 5.0\n",
    "\n",
    "try:\n",
    "    for i in range(1,1000):\n",
    "        j = j**i\n",
    "except OverflowError as e:\n",
    "    print(\"value out of range\\n\",e)\n"
   ]
  },
  {
   "cell_type": "code",
   "execution_count": 10,
   "id": "73365b43-8127-4dc1-bb62-7dcd5adb662c",
   "metadata": {},
   "outputs": [
    {
     "name": "stdout",
     "output_type": "stream",
     "text": [
      "this is my error\n",
      " division by zero\n"
     ]
    }
   ],
   "source": [
    "try:\n",
    "    a=5/0\n",
    "except ZeroDivisionError as e:\n",
    "    print(\"this is my error\\n\",e)"
   ]
  },
  {
   "cell_type": "code",
   "execution_count": 16,
   "id": "44e9c038-4a70-4aac-b5bb-1445c824dae4",
   "metadata": {},
   "outputs": [
    {
     "name": "stdout",
     "output_type": "stream",
     "text": [
      "BaseException\n"
     ]
    }
   ],
   "source": [
    "#QUESTION 2\n",
    "\n",
    "import inspect\n",
    "def treeClass(cls, ind = 0):\n",
    "    print ('-' * ind, cls.__name__)\n",
    "    for i in cls.__subclasses__():\n",
    "        treeClass(i, ind + 3)\n",
    "  \n",
    "print(\"Hierarchy for Built-in exceptions is : \")\n",
    "  \n",
    "# inspect.getmro() Return a tuple \n",
    "# of class  cls’s base classes.\n",
    "  \n",
    "# building a tree hierarchy \n",
    "inspect.getclasstree(inspect.getmro(BaseException))\n",
    "  \n",
    "# function call\n",
    "treeClass(BaseException)"
   ]
  },
  {
   "cell_type": "markdown",
   "id": "87b7a819-6d84-412e-b90e-b50c70677929",
   "metadata": {},
   "source": [
    "QUESTION 1\n",
    "\n",
    "We use the Exception class while creating a Custom Exception to inherit all the properties of Exception class into custom Exception class."
   ]
  },
  {
   "cell_type": "code",
   "execution_count": null,
   "id": "3e51def0-1bf3-4b87-b051-5b4ace7fb335",
   "metadata": {},
   "outputs": [],
   "source": []
  }
 ],
 "metadata": {
  "kernelspec": {
   "display_name": "Python 3 (ipykernel)",
   "language": "python",
   "name": "python3"
  },
  "language_info": {
   "codemirror_mode": {
    "name": "ipython",
    "version": 3
   },
   "file_extension": ".py",
   "mimetype": "text/x-python",
   "name": "python",
   "nbconvert_exporter": "python",
   "pygments_lexer": "ipython3",
   "version": "3.10.8"
  }
 },
 "nbformat": 4,
 "nbformat_minor": 5
}
